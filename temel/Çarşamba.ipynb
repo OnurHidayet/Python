{
 "cells": [
  {
   "cell_type": "markdown",
   "id": "3282a6c5",
   "metadata": {},
   "source": [
    "# İF "
   ]
  },
  {
   "cell_type": "code",
   "execution_count": null,
   "id": "ebef92f7",
   "metadata": {},
   "outputs": [],
   "source": [
    "yaş=int(input(\"Yaşınızı giriniz:\"))\n",
    "if(yaş<18):\n",
    "   print(\"Bu mekana giremezsiniz.\")"
   ]
  },
  {
   "cell_type": "code",
   "execution_count": null,
   "id": "b56393c2",
   "metadata": {},
   "outputs": [],
   "source": [
    "yaş=int(input(\"Yaşnızı giriniz:\"))\n",
    "if(yaş>18):\n",
    "    print(\"Girebilirsiniz.\")"
   ]
  },
  {
   "cell_type": "code",
   "execution_count": null,
   "id": "0b58034c",
   "metadata": {},
   "outputs": [],
   "source": [
    "kilo=int(input(\"Kilo giriniz:\"))\n",
    "if(kilo<70):\n",
    "    print(\"Sağlıklı\")\n",
    "else:\n",
    "        print(\"Sağlıksız\")"
   ]
  },
  {
   "cell_type": "markdown",
   "id": "f6bc5b12",
   "metadata": {},
   "source": [
    "# if Elif Else koşulu; "
   ]
  },
  {
   "cell_type": "code",
   "execution_count": null,
   "id": "1398c1b4",
   "metadata": {},
   "outputs": [],
   "source": [
    "işlem=int(input(\"İşlem seçiniz:\"))\n",
    "if işlem==1:\n",
    "    print(\"1.İşlem seçildi.\")\n",
    "elif işlem==2:\n",
    "    print(\"2.işlem seçildi.\")\n",
    "elif işlem==3:\n",
    "    print(\"3.işlem seçildi.\")\n",
    "else:\n",
    "    print(\"Geçersiz işlem!\")"
   ]
  },
  {
   "cell_type": "markdown",
   "id": "2772349b",
   "metadata": {},
   "source": [
    "# Mantıksal Bağlaçlar"
   ]
  },
  {
   "cell_type": "code",
   "execution_count": null,
   "id": "ec22b6cf",
   "metadata": {},
   "outputs": [],
   "source": [
    "1<2 and \"Murat\"==\"Murat\""
   ]
  },
  {
   "cell_type": "code",
   "execution_count": null,
   "id": "f6a9012a",
   "metadata": {},
   "outputs": [],
   "source": [
    "2>3 and \"Murat\"==\"Murat\""
   ]
  },
  {
   "cell_type": "code",
   "execution_count": null,
   "id": "c3155731",
   "metadata": {},
   "outputs": [],
   "source": [
    "1<2 or \"Murat\"==\"Murat\""
   ]
  },
  {
   "cell_type": "code",
   "execution_count": null,
   "id": "9f40e133",
   "metadata": {},
   "outputs": [],
   "source": [
    "2>3 or \"Murat\"==\"Murat\""
   ]
  },
  {
   "cell_type": "code",
   "execution_count": null,
   "id": "98d0ac81",
   "metadata": {},
   "outputs": [],
   "source": [
    "1<2 or \"Murat\"!=\"Murat\""
   ]
  },
  {
   "cell_type": "code",
   "execution_count": null,
   "id": "0614f65f",
   "metadata": {},
   "outputs": [],
   "source": [
    "2>3 or \"Murat\"!=\"Murat\" or 3.14<4.32"
   ]
  },
  {
   "cell_type": "code",
   "execution_count": null,
   "id": "52e55637",
   "metadata": {},
   "outputs": [],
   "source": [
    "2>3 or \"Murat\"!=\"Murat\""
   ]
  },
  {
   "cell_type": "markdown",
   "id": "af2d0592",
   "metadata": {},
   "source": [
    "# Not "
   ]
  },
  {
   "cell_type": "code",
   "execution_count": null,
   "id": "8b13bf18",
   "metadata": {},
   "outputs": [],
   "source": [
    "not 2==2"
   ]
  },
  {
   "cell_type": "code",
   "execution_count": null,
   "id": "f1f36891",
   "metadata": {},
   "outputs": [],
   "source": [
    "not \"Onur\"==\"Osman\""
   ]
  },
  {
   "cell_type": "code",
   "execution_count": null,
   "id": "f3a103d8",
   "metadata": {},
   "outputs": [],
   "source": [
    "\"a\" in \"Merhaba\""
   ]
  },
  {
   "cell_type": "code",
   "execution_count": null,
   "id": "1648d299",
   "metadata": {},
   "outputs": [],
   "source": [
    "\"t\" in \"Merhaba\""
   ]
  },
  {
   "cell_type": "code",
   "execution_count": null,
   "id": "50f47110",
   "metadata": {},
   "outputs": [],
   "source": [
    "55 in [1,2,3,4]"
   ]
  },
  {
   "cell_type": "code",
   "execution_count": null,
   "id": "f9a0738e",
   "metadata": {},
   "outputs": [],
   "source": [
    "\"4\" in \"413123\""
   ]
  },
  {
   "cell_type": "markdown",
   "id": "83cd3632",
   "metadata": {},
   "source": [
    " # For"
   ]
  },
  {
   "cell_type": "code",
   "execution_count": null,
   "id": "2425bb16",
   "metadata": {},
   "outputs": [],
   "source": [
    "liste = [1,2,3,4,5,6,7,8,9]\n",
    "for eleman in liste:\n",
    "    if eleman %2 ==0:\n",
    "        print(eleman)"
   ]
  },
  {
   "cell_type": "code",
   "execution_count": null,
   "id": "8820d8f4",
   "metadata": {},
   "outputs": [],
   "source": [
    "liste = [3,6,12,15,20,35,62]\n",
    "for eleman in liste:\n",
    "    if eleman % 5==0:\n",
    "        print(eleman)"
   ]
  },
  {
   "cell_type": "markdown",
   "id": "87e1dcb8",
   "metadata": {},
   "source": [
    "# Dosya açmak yazmak kapatmak"
   ]
  },
  {
   "cell_type": "code",
   "execution_count": 5,
   "id": "28788967",
   "metadata": {},
   "outputs": [
    {
     "data": {
      "text/plain": [
       "<_io.TextIOWrapper name='onur.txt' mode='w' encoding='cp1254'>"
      ]
     },
     "execution_count": 5,
     "metadata": {},
     "output_type": "execute_result"
    }
   ],
   "source": [
    "open(\"onur.txt\",\"w\")"
   ]
  },
  {
   "cell_type": "code",
   "execution_count": null,
   "id": "36b5a3cf",
   "metadata": {},
   "outputs": [],
   "source": [
    "file = open(\"‪‪‪C:\\Users\\BT-101\\Desktop\\onur.txt\",\"w\")"
   ]
  },
  {
   "cell_type": "code",
   "execution_count": 8,
   "id": "af79ccb5",
   "metadata": {},
   "outputs": [],
   "source": [
    "file = open(\"bilgiler.txt\",\"w\",encoding=\"utf-8\")"
   ]
  },
  {
   "cell_type": "code",
   "execution_count": 10,
   "id": "8da3a046",
   "metadata": {},
   "outputs": [
    {
     "data": {
      "text/plain": [
       "18"
      ]
     },
     "execution_count": 10,
     "metadata": {},
     "output_type": "execute_result"
    }
   ],
   "source": [
    "file.write(\"Merhaba pınarhisar\")"
   ]
  },
  {
   "cell_type": "code",
   "execution_count": 12,
   "id": "2b136f04",
   "metadata": {},
   "outputs": [
    {
     "name": "stdout",
     "output_type": "stream",
     "text": [
      "Merhaba pınarhisar\n"
     ]
    }
   ],
   "source": [
    "file= open(\"bilgiler.txt\",\"r\",encoding=\"utf-8\")\n",
    "for i in file:\n",
    "    print(i)\n",
    "file.close()"
   ]
  },
  {
   "cell_type": "code",
   "execution_count": null,
   "id": "f525b856",
   "metadata": {},
   "outputs": [],
   "source": [
    "print(file.readline())"
   ]
  },
  {
   "cell_type": "code",
   "execution_count": null,
   "id": "c89d53aa",
   "metadata": {},
   "outputs": [],
   "source": [
    "print(file.readlines())"
   ]
  },
  {
   "cell_type": "code",
   "execution_count": null,
   "id": "3b2e1a72",
   "metadata": {},
   "outputs": [],
   "source": []
  }
 ],
 "metadata": {
  "kernelspec": {
   "display_name": "Python 3 (ipykernel)",
   "language": "python",
   "name": "python3"
  },
  "language_info": {
   "codemirror_mode": {
    "name": "ipython",
    "version": 3
   },
   "file_extension": ".py",
   "mimetype": "text/x-python",
   "name": "python",
   "nbconvert_exporter": "python",
   "pygments_lexer": "ipython3",
   "version": "3.9.13"
  }
 },
 "nbformat": 4,
 "nbformat_minor": 5
}
