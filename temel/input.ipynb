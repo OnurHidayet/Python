{
 "cells": [
  {
   "cell_type": "markdown",
   "id": "c0a828ef",
   "metadata": {},
   "source": [
    "# Listeler "
   ]
  },
  {
   "cell_type": "markdown",
   "id": "c11ef135",
   "metadata": {},
   "source": [
    "Bu bölümde yapacağımız işlemler şunlardır;\n",
    "\n",
    "1.Liste Oluşturma\n",
    "2.İndexleme ve Parçalama\n",
    "3.Temel Liste Metodları ve İşlemleri\n",
    "4.İç İçe Listeler"
   ]
  },
  {
   "cell_type": "code",
   "execution_count": 5,
   "id": "cea0c4b4",
   "metadata": {},
   "outputs": [
    {
     "data": {
      "text/plain": [
       "[3, 4, 5, 6, 'Elma', 3.14, 5.324]"
      ]
     },
     "execution_count": 5,
     "metadata": {},
     "output_type": "execute_result"
    }
   ],
   "source": [
    " #  liste değişkeni. Değişik veri tiplerinden değerleri saklayabiliyoruz.\n",
    "liste = [3,4,5,6,\"Elma\",3.14,5.324]\n",
    "liste"
   ]
  },
  {
   "cell_type": "code",
   "execution_count": 6,
   "id": "9824e4c6",
   "metadata": {},
   "outputs": [
    {
     "data": {
      "text/plain": [
       "[3, 4, 5, 6, 7, 8, 9]"
      ]
     },
     "execution_count": 6,
     "metadata": {},
     "output_type": "execute_result"
    }
   ],
   "source": [
    "liste2 = [3,4,5,6,7,8,9]\n",
    "liste2"
   ]
  },
  {
   "cell_type": "code",
   "execution_count": 8,
   "id": "651ae976",
   "metadata": {},
   "outputs": [],
   "source": [
    "# Boş liste"
   ]
  },
  {
   "cell_type": "code",
   "execution_count": 10,
   "id": "2bb06bcb",
   "metadata": {},
   "outputs": [
    {
     "data": {
      "text/plain": [
       "[1, 3, 5, 7, 9]"
      ]
     },
     "execution_count": 10,
     "metadata": {},
     "output_type": "execute_result"
    }
   ],
   "source": [
    "liste3 = [1,3,5,7,9]\n",
    "liste3"
   ]
  },
  {
   "cell_type": "code",
   "execution_count": 14,
   "id": "39afe090",
   "metadata": {},
   "outputs": [
    {
     "data": {
      "text/plain": [
       "['karpuz', 'kayısı']"
      ]
     },
     "execution_count": 14,
     "metadata": {},
     "output_type": "execute_result"
    }
   ],
   "source": [
    "liste4 = [\"karpuz\",\"kayısı\"]\n",
    "liste4 "
   ]
  },
  {
   "cell_type": "code",
   "execution_count": 18,
   "id": "3e3d1f90",
   "metadata": {},
   "outputs": [],
   "source": [
    "liste5 = []"
   ]
  },
  {
   "cell_type": "code",
   "execution_count": 19,
   "id": "7b2d16a4",
   "metadata": {},
   "outputs": [
    {
     "data": {
      "text/plain": [
       "10"
      ]
     },
     "execution_count": 19,
     "metadata": {},
     "output_type": "execute_result"
    }
   ],
   "source": [
    "# Len fonksiyonu listeler üzerinde de kullanılabilir.\n",
    "liste6 = [3,4,5,6,7,8,9,0,0,0]\n",
    "len(liste6)"
   ]
  },
  {
   "cell_type": "code",
   "execution_count": 31,
   "id": "730e9b21",
   "metadata": {},
   "outputs": [
    {
     "data": {
      "text/plain": [
       "['K', 'a', 'm', 'y', 'o', 'n']"
      ]
     },
     "execution_count": 31,
     "metadata": {},
     "output_type": "execute_result"
    }
   ],
   "source": [
    "s = \"Kamyon\"\n",
    "lst = list (s)\n",
    "lst"
   ]
  },
  {
   "cell_type": "code",
   "execution_count": 36,
   "id": "31487789",
   "metadata": {},
   "outputs": [
    {
     "data": {
      "text/plain": [
       "['1', '2', '3']"
      ]
     },
     "execution_count": 36,
     "metadata": {},
     "output_type": "execute_result"
    }
   ],
   "source": [
    "s = \"123\"\n",
    "lst = list (s)\n",
    "lst"
   ]
  },
  {
   "cell_type": "code",
   "execution_count": 48,
   "id": "dac9d039",
   "metadata": {},
   "outputs": [
    {
     "data": {
      "text/plain": [
       "[2, 3, 5, 8, 9, 52, 63, 82, 99, 102, 105]"
      ]
     },
     "execution_count": 48,
     "metadata": {},
     "output_type": "execute_result"
    }
   ],
   "source": [
    "liste = [2,3,5,8,9,52,63,82,99,102,105]\n",
    "liste"
   ]
  },
  {
   "cell_type": "code",
   "execution_count": 49,
   "id": "e878a582",
   "metadata": {},
   "outputs": [
    {
     "data": {
      "text/plain": [
       "5"
      ]
     },
     "execution_count": 49,
     "metadata": {},
     "output_type": "execute_result"
    }
   ],
   "source": [
    "# 2. eleman\n",
    "liste[2]"
   ]
  },
  {
   "cell_type": "code",
   "execution_count": 50,
   "id": "d0bec9f8",
   "metadata": {},
   "outputs": [
    {
     "data": {
      "text/plain": [
       "[2, 3, 5]"
      ]
     },
     "execution_count": 50,
     "metadata": {},
     "output_type": "execute_result"
    }
   ],
   "source": [
    "# Baştan 3. indekse kadar (dahil değil)\n",
    "liste[:3]"
   ]
  },
  {
   "cell_type": "code",
   "execution_count": 51,
   "id": "0c840e0d",
   "metadata": {},
   "outputs": [
    {
     "data": {
      "text/plain": [
       "[8, 9, 52, 63, 82, 99, 102, 105]"
      ]
     },
     "execution_count": 51,
     "metadata": {},
     "output_type": "execute_result"
    }
   ],
   "source": [
    "liste[3:]"
   ]
  },
  {
   "cell_type": "code",
   "execution_count": 52,
   "id": "46aaf194",
   "metadata": {},
   "outputs": [
    {
     "data": {
      "text/plain": [
       "2"
      ]
     },
     "execution_count": 52,
     "metadata": {},
     "output_type": "execute_result"
    }
   ],
   "source": [
    "# İlk eleman\n",
    "liste[-len(liste)]"
   ]
  },
  {
   "cell_type": "code",
   "execution_count": 53,
   "id": "e2fc155b",
   "metadata": {},
   "outputs": [
    {
     "data": {
      "text/plain": [
       "[105, 102, 99, 82, 63, 52, 9, 8, 5, 3, 2]"
      ]
     },
     "execution_count": 53,
     "metadata": {},
     "output_type": "execute_result"
    }
   ],
   "source": [
    "liste [::-1]"
   ]
  },
  {
   "cell_type": "code",
   "execution_count": 56,
   "id": "9d56348c",
   "metadata": {},
   "outputs": [],
   "source": [
    "liste = [2,3,5,8,9,52,63,82,99,102,105] \n",
    "liste = liste + [\"Murat\"]"
   ]
  },
  {
   "cell_type": "code",
   "execution_count": 57,
   "id": "b9c2892e",
   "metadata": {},
   "outputs": [
    {
     "data": {
      "text/plain": [
       "[2, 3, 5, 8, 9, 52, 63, 82, 99, 102, 105, 'Murat']"
      ]
     },
     "execution_count": 57,
     "metadata": {},
     "output_type": "execute_result"
    }
   ],
   "source": [
    "liste"
   ]
  },
  {
   "cell_type": "code",
   "execution_count": null,
   "id": "56c2484d",
   "metadata": {},
   "outputs": [],
   "source": []
  }
 ],
 "metadata": {
  "kernelspec": {
   "display_name": "Python 3 (ipykernel)",
   "language": "python",
   "name": "python3"
  },
  "language_info": {
   "codemirror_mode": {
    "name": "ipython",
    "version": 3
   },
   "file_extension": ".py",
   "mimetype": "text/x-python",
   "name": "python",
   "nbconvert_exporter": "python",
   "pygments_lexer": "ipython3",
   "version": "3.9.13"
  }
 },
 "nbformat": 4,
 "nbformat_minor": 5
}
