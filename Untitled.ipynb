{
  "metadata": {
    "language_info": {
      "codemirror_mode": {
        "name": "python",
        "version": 3
      },
      "file_extension": ".py",
      "mimetype": "text/x-python",
      "name": "python",
      "nbconvert_exporter": "python",
      "pygments_lexer": "ipython3",
      "version": "3.8"
    },
    "kernelspec": {
      "name": "python",
      "display_name": "Python (Pyodide)",
      "language": "python"
    }
  },
  "nbformat_minor": 4,
  "nbformat": 4,
  "cells": [
    {
      "cell_type": "markdown",
      "source": "# MERHABA PYTHON",
      "metadata": {}
    },
    {
      "cell_type": "markdown",
      "source": "# Python ile Matematiksel İşlemler",
      "metadata": {}
    },
    {
      "cell_type": "markdown",
      "source": "## 1.Toplama İşlemi",
      "metadata": {}
    },
    {
      "cell_type": "markdown",
      "source": "Python matematiksel işlemleri çok hızlı bir şekilde yapabilen bir yazılım dilidir. Bu örnekte toplama işlemi yapacağız.",
      "metadata": {}
    },
    {
      "cell_type": "code",
      "source": "A = 15\nB = 10\nA + B ",
      "metadata": {
        "trusted": true
      },
      "execution_count": 1,
      "outputs": [
        {
          "execution_count": 1,
          "output_type": "execute_result",
          "data": {
            "text/plain": "25"
          },
          "metadata": {}
        }
      ]
    },
    {
      "cell_type": "code",
      "source": "# 13'ün 4 ile bölümünden kalan 1'dir.\n13 % 1",
      "metadata": {
        "trusted": true
      },
      "execution_count": 2,
      "outputs": [
        {
          "execution_count": 2,
          "output_type": "execute_result",
          "data": {
            "text/plain": "0"
          },
          "metadata": {}
        }
      ]
    },
    {
      "cell_type": "markdown",
      "source": "## Üs Bulma (**)",
      "metadata": {}
    },
    {
      "cell_type": "code",
      "source": "# 4^3\n4 ** 3",
      "metadata": {
        "trusted": true
      },
      "execution_count": 3,
      "outputs": [
        {
          "execution_count": 3,
          "output_type": "execute_result",
          "data": {
            "text/plain": "64"
          },
          "metadata": {}
        }
      ]
    },
    {
      "cell_type": "code",
      "source": "2 ** 4 ",
      "metadata": {
        "trusted": true
      },
      "execution_count": 4,
      "outputs": [
        {
          "execution_count": 4,
          "output_type": "execute_result",
          "data": {
            "text/plain": "16"
          },
          "metadata": {}
        }
      ]
    },
    {
      "cell_type": "code",
      "source": "3.14 ** 3",
      "metadata": {
        "trusted": true
      },
      "execution_count": 5,
      "outputs": [
        {
          "execution_count": 5,
          "output_type": "execute_result",
          "data": {
            "text/plain": "30.959144000000002"
          },
          "metadata": {}
        }
      ]
    },
    {
      "cell_type": "markdown",
      "source": "# İşaret Değiştirme",
      "metadata": {}
    },
    {
      "cell_type": "code",
      "source": "a = 4 \n-a",
      "metadata": {
        "trusted": true
      },
      "execution_count": 6,
      "outputs": [
        {
          "execution_count": 6,
          "output_type": "execute_result",
          "data": {
            "text/plain": "-4"
          },
          "metadata": {}
        }
      ]
    },
    {
      "cell_type": "markdown",
      "source": "# Operatörleri Beraber Kullanma",
      "metadata": {}
    },
    {
      "cell_type": "code",
      "source": "8 + 4 *3 / 2-18",
      "metadata": {
        "trusted": true
      },
      "execution_count": 7,
      "outputs": [
        {
          "execution_count": 7,
          "output_type": "execute_result",
          "data": {
            "text/plain": "-4.0"
          },
          "metadata": {}
        }
      ]
    },
    {
      "cell_type": "code",
      "source": "",
      "metadata": {},
      "execution_count": null,
      "outputs": []
    }
  ]
}